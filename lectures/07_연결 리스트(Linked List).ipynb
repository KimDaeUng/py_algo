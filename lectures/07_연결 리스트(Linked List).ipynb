{
 "cells": [
  {
   "cell_type": "markdown",
   "metadata": {},
   "source": [
    "# 7. 연결 리스트"
   ]
  },
  {
   "cell_type": "markdown",
   "metadata": {},
   "source": [
    "## 추상적 자료구조(Abstract Data Structures)\n",
    "- 내부 구현은 숨겨두고, 밖에서 보이는 것들 두 가지를 제공하는 자료구조\n",
    "    - Data\n",
    "        - ex : 정수, 문자열, 레코드, ...\n",
    "    - A set of operations\n",
    "        - 삽입, 삭제, 순회, ..\n",
    "        - 정렬, 탐색, ..."
   ]
  },
  {
   "cell_type": "code",
   "execution_count": null,
   "metadata": {},
   "outputs": [],
   "source": []
  }
 ],
 "metadata": {
  "kernelspec": {
   "display_name": "Python 3.6.10 64-bit ('tf2': conda)",
   "language": "python",
   "name": "python361064bittf2condada0922151b9240feb2a91d1fd4c86322"
  },
  "language_info": {
   "codemirror_mode": {
    "name": "ipython",
    "version": 3
   },
   "file_extension": ".py",
   "mimetype": "text/x-python",
   "name": "python",
   "nbconvert_exporter": "python",
   "pygments_lexer": "ipython3",
   "version": "3.6.10"
  }
 },
 "nbformat": 4,
 "nbformat_minor": 4
}
