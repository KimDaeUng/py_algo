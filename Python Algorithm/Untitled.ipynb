{
 "cells": [
  {
   "cell_type": "markdown",
   "metadata": {},
   "source": [
    "# Stack ADT 구현"
   ]
  },
  {
   "cell_type": "code",
   "execution_count": 27,
   "metadata": {},
   "outputs": [],
   "source": [
    "class Node:\n",
    "    def __init__(self, item, next_):\n",
    "        self.item = item\n",
    "        self.next = next_"
   ]
  },
  {
   "cell_type": "code",
   "execution_count": 31,
   "metadata": {},
   "outputs": [],
   "source": [
    "class Stack:\n",
    "    def __init__(self):\n",
    "        self.last = None\n",
    "        \n",
    "    def push(self, item):\n",
    "        # Stack의 마지막 값에 새로운 요소(Node) 추가,\n",
    "        # 새로운 요소의 가장 마지막 값을 None(self.last)으로 지정\n",
    "        self.last = Node(item, self.last)\n",
    "        \n",
    "    def pop(self):\n",
    "        item = self.last.item      # 가장 마지막 아이템 끄집어내고\n",
    "        self.last = self.last.next # last 포인터 한 칸 전진\n",
    "        return item"
   ]
  },
  {
   "cell_type": "code",
   "execution_count": 32,
   "metadata": {},
   "outputs": [],
   "source": [
    "stack = Stack()"
   ]
  },
  {
   "cell_type": "code",
   "execution_count": 33,
   "metadata": {},
   "outputs": [],
   "source": [
    "stack.push(1)\n",
    "stack.push(2)\n",
    "stack.push(3)\n",
    "stack.push(4)\n",
    "stack.push(5)"
   ]
  },
  {
   "cell_type": "code",
   "execution_count": 34,
   "metadata": {},
   "outputs": [
    {
     "name": "stdout",
     "output_type": "stream",
     "text": [
      "5\n",
      "4\n",
      "3\n",
      "2\n",
      "1\n"
     ]
    }
   ],
   "source": [
    "for _ in range(5):\n",
    "    print(stack.pop())"
   ]
  },
  {
   "cell_type": "markdown",
   "metadata": {},
   "source": [
    "# 22. 일일 온도"
   ]
  },
  {
   "cell_type": "code",
   "execution_count": 56,
   "metadata": {},
   "outputs": [],
   "source": [
    "T = [73, 74, 75, 71, 69, 72, 76, 73]"
   ]
  },
  {
   "cell_type": "code",
   "execution_count": 57,
   "metadata": {},
   "outputs": [],
   "source": [
    "T.reverse()"
   ]
  },
  {
   "cell_type": "code",
   "execution_count": 58,
   "metadata": {},
   "outputs": [
    {
     "data": {
      "text/plain": [
       "[73, 76, 72, 69, 71, 75, 74, 73]"
      ]
     },
     "execution_count": 58,
     "metadata": {},
     "output_type": "execute_result"
    }
   ],
   "source": [
    "T"
   ]
  },
  {
   "cell_type": "code",
   "execution_count": 69,
   "metadata": {},
   "outputs": [
    {
     "name": "stdout",
     "output_type": "stream",
     "text": [
      "0th / cur : 73\n",
      "stack :  [0]\n",
      "answer :  [0, 0, 0, 0, 0, 0, 0, 0]\n",
      "\n",
      "1th / cur : 76\n",
      "stack :  [1]\n",
      "answer :  [1, 0, 0, 0, 0, 0, 0, 0]\n",
      "\n",
      "2th / cur : 72\n",
      "stack :  [1, 2]\n",
      "answer :  [1, 0, 0, 0, 0, 0, 0, 0]\n",
      "\n",
      "3th / cur : 69\n",
      "stack :  [1, 2, 3]\n",
      "answer :  [1, 0, 0, 0, 0, 0, 0, 0]\n",
      "\n",
      "4th / cur : 71\n",
      "stack :  [1, 2, 4]\n",
      "answer :  [1, 0, 0, 1, 0, 0, 0, 0]\n",
      "\n",
      "5th / cur : 75\n",
      "stack :  [1, 5]\n",
      "answer :  [1, 0, 3, 1, 1, 0, 0, 0]\n",
      "\n",
      "6th / cur : 74\n",
      "stack :  [1, 5, 6]\n",
      "answer :  [1, 0, 3, 1, 1, 0, 0, 0]\n",
      "\n",
      "7th / cur : 73\n",
      "stack :  [1, 5, 6, 7]\n",
      "answer :  [1, 0, 3, 1, 1, 0, 0, 0]\n",
      "\n"
     ]
    }
   ],
   "source": [
    "answer = [0]*len(T)\n",
    "stack = []\n",
    "for i, cur in enumerate(T):\n",
    "    # 현재 온도가 스택의 온도보다 높다면 정답처리\n",
    "    while stack and cur > T[stack[-1]]:\n",
    "        last = stack.pop()\n",
    "        answer[last] = i - last\n",
    "    stack.append(i)\n",
    "    print(\"{}th / cur : {}\".format(i, cur))\n",
    "    print(\"stack : \", stack)\n",
    "    print(\"answer : \", answer)\n",
    "    print()"
   ]
  },
  {
   "cell_type": "code",
   "execution_count": 67,
   "metadata": {},
   "outputs": [
    {
     "data": {
      "text/plain": [
       "[1, 5, 6, 7]"
      ]
     },
     "execution_count": 67,
     "metadata": {},
     "output_type": "execute_result"
    }
   ],
   "source": [
    "stack"
   ]
  },
  {
   "cell_type": "code",
   "execution_count": 64,
   "metadata": {},
   "outputs": [],
   "source": [
    "\n",
    "# counter = 0\n",
    "# stack = []\n",
    "answer = []\n",
    "for i in range(len(T)):\n",
    "    # 다음 것과 비교시 \n",
    "    j = 1\n",
    "    stack = []\n",
    "    while T[i] < T[j]:\n",
    "        stack.append(T[j])\n",
    "        j += 1\n",
    "    \n",
    "    answer.append(len(stack))\n",
    "    "
   ]
  },
  {
   "cell_type": "code",
   "execution_count": 65,
   "metadata": {},
   "outputs": [
    {
     "data": {
      "text/plain": [
       "[1, 0, 1, 2, 2, 1, 1, 1]"
      ]
     },
     "execution_count": 65,
     "metadata": {},
     "output_type": "execute_result"
    }
   ],
   "source": [
    "answer"
   ]
  },
  {
   "cell_type": "code",
   "execution_count": null,
   "metadata": {},
   "outputs": [],
   "source": []
  }
 ],
 "metadata": {
  "kernelspec": {
   "display_name": "Python 3.6.1 64-bit ('ml20': conda)",
   "language": "python",
   "name": "python36164bitml20condacc618af38cfa468c97c09473747fd9af"
  },
  "language_info": {
   "codemirror_mode": {
    "name": "ipython",
    "version": 3
   },
   "file_extension": ".py",
   "mimetype": "text/x-python",
   "name": "python",
   "nbconvert_exporter": "python",
   "pygments_lexer": "ipython3",
   "version": "3.6.1"
  }
 },
 "nbformat": 4,
 "nbformat_minor": 4
}
